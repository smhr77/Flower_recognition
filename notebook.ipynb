{
 "cells": [
  {
   "cell_type": "code",
   "execution_count": 1,
   "id": "fddc14a4-7571-43c2-9c41-f60cf76e8410",
   "metadata": {},
   "outputs": [
    {
     "name": "stdout",
     "output_type": "stream",
     "text": [
      "Found 3043 images belonging to 5 classes.\n",
      "Found 1170 images belonging to 5 classes.\n"
     ]
    }
   ],
   "source": [
    "import numpy as np\n",
    "import pandas as pd\n",
    "import tensorflow as tf\n",
    "import keras\n",
    "from PIL import Image\n",
    "from keras.preprocessing.image import ImageDataGenerator\n",
    "# Training:\n",
    "training = ImageDataGenerator(\n",
    "        rescale = 1./255,\n",
    "        shear_range= 0.2,\n",
    "        zoom_range = 0.2,\n",
    "        horizontal_flip = True)\n",
    "training_set = training.flow_from_directory(\n",
    "        'training_flowers',\n",
    "         target_size= (64,64),\n",
    "        batch_size = 32,\n",
    "        class_mode= 'categorical')\n",
    "\n",
    "#Test:\n",
    "test= ImageDataGenerator(rescale= 1./255)\n",
    "test_set= test.flow_from_directory(\n",
    "        'test_flowers',\n",
    "        target_size= (64,64),\n",
    "        batch_size = 32,\n",
    "        class_mode = 'categorical'\n",
    ")"
   ]
  },
  {
   "cell_type": "code",
   "execution_count": 2,
   "id": "3bb44175-5617-43dd-a333-a127939181ec",
   "metadata": {},
   "outputs": [],
   "source": [
    "cnn = tf.keras.models.Sequential()\n",
    "#Building Convolutional layer\n",
    "cnn.add(tf.keras.layers.Conv2D(filters = 64, kernel_size = 3, activation = 'relu', input_shape=[64,64, 3] ))\n",
    "cnn.add(tf.keras.layers.MaxPool2D(pool_size = 2, strides=2))\n",
    "\n",
    "cnn.add(tf.keras.layers.Conv2D(filters = 64, kernel_size = 3, activation = 'relu'))\n",
    "cnn.add(tf.keras.layers.MaxPool2D(pool_size = 2, strides= 2))"
   ]
  },
  {
   "cell_type": "code",
   "execution_count": 3,
   "id": "a2ae7a32-1c33-4de3-84f2-b6d80c218f94",
   "metadata": {},
   "outputs": [],
   "source": [
    "cnn.add(tf.keras.layers.Dropout(0.5))\n",
    "\n",
    "cnn.add(tf.keras.layers.Flatten())\n"
   ]
  },
  {
   "cell_type": "code",
   "execution_count": 4,
   "id": "f30367aa-7b0b-4295-aaac-b08237cd8445",
   "metadata": {},
   "outputs": [],
   "source": [
    "cnn.add(tf.keras.layers.Dense(units = 128, activation = 'relu'))\n",
    "cnn.add(tf.keras.layers.Dense(units = 5, activation = 'softmax'))\n",
    "cnn.compile(optimizer = 'rmsprop', loss ='categorical_crossentropy', metrics =['accuracy'])"
   ]
  },
  {
   "cell_type": "code",
   "execution_count": 5,
   "id": "ff390756-84b4-4a85-a7d6-3b21171c15d3",
   "metadata": {},
   "outputs": [
    {
     "name": "stdout",
     "output_type": "stream",
     "text": [
      "Epoch 1/15\n",
      "96/96 [==============================] - 76s 773ms/step - loss: 1.4177 - accuracy: 0.3960 - val_loss: 1.1642 - val_accuracy: 0.5154\n",
      "Epoch 2/15\n",
      "96/96 [==============================] - 70s 725ms/step - loss: 1.1625 - accuracy: 0.5363 - val_loss: 1.1491 - val_accuracy: 0.5564\n",
      "Epoch 3/15\n",
      "96/96 [==============================] - 83s 857ms/step - loss: 1.0612 - accuracy: 0.5757 - val_loss: 0.9458 - val_accuracy: 0.6402\n",
      "Epoch 4/15\n",
      "96/96 [==============================] - 93s 963ms/step - loss: 0.9780 - accuracy: 0.6158 - val_loss: 1.0681 - val_accuracy: 0.6017\n",
      "Epoch 5/15\n",
      "96/96 [==============================] - 85s 891ms/step - loss: 0.9311 - accuracy: 0.6444 - val_loss: 0.9567 - val_accuracy: 0.6402\n",
      "Epoch 6/15\n",
      "96/96 [==============================] - 88s 915ms/step - loss: 0.8782 - accuracy: 0.6582 - val_loss: 0.8934 - val_accuracy: 0.6675\n",
      "Epoch 7/15\n",
      "96/96 [==============================] - 88s 912ms/step - loss: 0.8483 - accuracy: 0.6756 - val_loss: 0.9366 - val_accuracy: 0.6350\n",
      "Epoch 8/15\n",
      "96/96 [==============================] - 83s 859ms/step - loss: 0.8051 - accuracy: 0.6812 - val_loss: 1.0646 - val_accuracy: 0.6171\n",
      "Epoch 9/15\n",
      "96/96 [==============================] - 74s 772ms/step - loss: 0.7570 - accuracy: 0.7072 - val_loss: 0.8465 - val_accuracy: 0.6889\n",
      "Epoch 10/15\n",
      "96/96 [==============================] - 77s 804ms/step - loss: 0.7394 - accuracy: 0.7180 - val_loss: 0.9084 - val_accuracy: 0.6658\n",
      "Epoch 11/15\n",
      "96/96 [==============================] - 79s 825ms/step - loss: 0.7037 - accuracy: 0.7269 - val_loss: 0.8141 - val_accuracy: 0.7026\n",
      "Epoch 12/15\n",
      "96/96 [==============================] - 79s 814ms/step - loss: 0.6674 - accuracy: 0.7470 - val_loss: 0.8430 - val_accuracy: 0.6932\n",
      "Epoch 13/15\n",
      "96/96 [==============================] - 80s 837ms/step - loss: 0.6305 - accuracy: 0.7588 - val_loss: 0.8566 - val_accuracy: 0.7051\n",
      "Epoch 14/15\n",
      "96/96 [==============================] - 85s 886ms/step - loss: 0.6239 - accuracy: 0.7706 - val_loss: 0.8206 - val_accuracy: 0.6932\n",
      "Epoch 15/15\n",
      "96/96 [==============================] - 92s 959ms/step - loss: 0.5935 - accuracy: 0.7762 - val_loss: 0.8193 - val_accuracy: 0.7085\n"
     ]
    }
   ],
   "source": [
    "\n",
    "Model = cnn.fit(x= training_set, validation_data = test_set, epochs = 15)\n"
   ]
  },
  {
   "cell_type": "code",
   "execution_count": 6,
   "id": "f4f440b1-a031-4d99-9bd1-58b0798e8669",
   "metadata": {},
   "outputs": [],
   "source": [
    "# for Model deployment import pickle file\n",
    "import pickle\n",
    "pickle.dump(Model, open(\"flower.pkl\", \"wb\"))"
   ]
  },
  {
   "cell_type": "code",
   "execution_count": null,
   "id": "a02b7f48-8411-41cc-b3e4-808e721306b3",
   "metadata": {},
   "outputs": [],
   "source": [
    "'''''from keras.preprocessing import image\n",
    "test_image = image.load_img('images/l1.jpg', target_size)\n",
    "test_image = image.img_to_array(test_image)\n",
    "test_image = np.expand_dims(test_image, axis = 0)\n",
    "result = cnn.predict(test_image)'''"
   ]
  }
 ],
 "metadata": {
  "kernelspec": {
   "display_name": "Python 3 (ipykernel)",
   "language": "python",
   "name": "python3"
  },
  "language_info": {
   "codemirror_mode": {
    "name": "ipython",
    "version": 3
   },
   "file_extension": ".py",
   "mimetype": "text/x-python",
   "name": "python",
   "nbconvert_exporter": "python",
   "pygments_lexer": "ipython3",
   "version": "3.9.13"
  }
 },
 "nbformat": 4,
 "nbformat_minor": 5
}
